{
 "cells": [
  {
   "cell_type": "markdown",
   "id": "a21f76a2",
   "metadata": {},
   "source": [
    "## Football API\n",
    "\n",
    "[FootballAPI](https://rapidapi.com/GiulianoCrescimbeni/api/football98/) es una API desarrollada por Giuliano Crescimbeni ofrecida en la página [RapidAPI](https://rapidapi.com) que cuenta con más de 315 competiciones a nivel global.\n",
    "Ofrece una plan gratuito con 100 peticiones por días.\n",
    "\n",
    "Nos permite extraer noticias, resultados, fixtures y transferencias de los distintos equipos del mundo."
   ]
  },
  {
   "cell_type": "markdown",
   "id": "451c78de",
   "metadata": {},
   "source": [
    "### Obteniendo los nametags de las competiciones"
   ]
  },
  {
   "cell_type": "markdown",
   "id": "3d1f82e9",
   "metadata": {},
   "source": [
    "Para poder trabajar con la API, necesitamos conocer el ID de cada competición del mundo."
   ]
  },
  {
   "cell_type": "code",
   "execution_count": null,
   "id": "09d6146c",
   "metadata": {
    "scrolled": true
   },
   "outputs": [],
   "source": [
    "import requests\n",
    "\n",
    "# Introducimos la URL\n",
    "\n",
    "url = \"https://football98.p.rapidapi.com/competitions\"\n",
    "\n",
    "# Colocamos nuestro Key y el Host\n",
    "\n",
    "headers = {\n",
    "    \"X-RapidAPI-Key\": \"ca578d1629msh29e6128cab61badp110658jsnefac65d5e1e4\",\n",
    "    \"X-RapidAPI-Host\": \"football98.p.rapidapi.com\"\n",
    "}\n",
    "\n",
    "response = requests.get(url, headers=headers)"
   ]
  },
  {
   "cell_type": "code",
   "execution_count": null,
   "id": "fb3ccfd9",
   "metadata": {
    "scrolled": true
   },
   "outputs": [],
   "source": [
    "competiciones = response.json()"
   ]
  },
  {
   "cell_type": "markdown",
   "id": "1a4494fd",
   "metadata": {},
   "source": [
    "Una vez hecha la petición, procedemos a mostrar competición por competición."
   ]
  },
  {
   "cell_type": "code",
   "execution_count": null,
   "id": "8dba9a5f",
   "metadata": {},
   "outputs": [],
   "source": [
    "competiciones = competiciones.strip('{}').split(',')\n",
    "for competicion in competiciones:\n",
    "    print(competicion)"
   ]
  },
  {
   "cell_type": "markdown",
   "id": "bc80194e",
   "metadata": {},
   "source": [
    "## Obteniendo las tablas de las principales ligas del mundo"
   ]
  },
  {
   "cell_type": "markdown",
   "id": "e47813f0",
   "metadata": {},
   "source": [
    "Procederemos a hacer un ejemplo de cómo extraer la tabla de la Premier League de Inglaterra."
   ]
  },
  {
   "cell_type": "code",
   "execution_count": null,
   "id": "e2194ac6",
   "metadata": {},
   "outputs": [],
   "source": [
    "import requests\n",
    "\n",
    "url = f'https://football98.p.rapidapi.com/premierleague/table'    \n",
    "#Como vemos, después del enlace hemos colocado la palabra 'premierleague' ya que se llama así según el ID de la competición.\n",
    "\n",
    "headers = {\n",
    "    \"X-RapidAPI-Key\": \"ca578d1629msh29e6128cab61badp110658jsnefac65d5e1e4\",\n",
    "    \"X-RapidAPI-Host\": \"football98.p.rapidapi.com\"\n",
    "}\n",
    "\n",
    "response = requests.get(url, headers=headers)\n",
    "response.json()"
   ]
  },
  {
   "cell_type": "markdown",
   "id": "e3c59aae",
   "metadata": {},
   "source": [
    "En este caso, nos ha devuelto un JSON con la posición, logo, nombre, puntos, partidos jugados, partidos ganados, partidos empatados, partidos perdidos y diferencia de goles de cada equipo.\n",
    "\n",
    "Ahora vamos a proceder a transformar toda esta información en un DataFrame de Pandas para poder manejarlo con más facilidad."
   ]
  },
  {
   "cell_type": "code",
   "execution_count": null,
   "id": "a1f71e33",
   "metadata": {},
   "outputs": [],
   "source": [
    "# Almaceno el 'response.json' en una variabla\n",
    "\n",
    "table_dirty = response.json()"
   ]
  },
  {
   "cell_type": "code",
   "execution_count": null,
   "id": "8be173da",
   "metadata": {},
   "outputs": [],
   "source": [
    "# Ahora creamos listas vacías para cada columna\n",
    "\n",
    "position = []\n",
    "name = []\n",
    "points = []\n",
    "played = []\n",
    "win = []\n",
    "lose = []\n",
    "tie = []\n",
    "goald = []\n",
    "\n",
    "# Una vez creado las lista vacías, vamos a extraer la información de cada equipo\n",
    "\n",
    "for i in table_dirty:\n",
    "    position.append(i['Position'])\n",
    "    name.append(i['Name'])\n",
    "    points.append(i['Points'])\n",
    "    played.append(i['Played'])\n",
    "    win.append(i['Winned'])\n",
    "    lose.append(i['Loosed'])\n",
    "    tie.append(i['Tie'])\n",
    "    goald.append(i['Goal Difference'])\n",
    "\n",
    "position, name, points, played, win, lose, tie, goald"
   ]
  },
  {
   "cell_type": "code",
   "execution_count": null,
   "id": "e6ad3522",
   "metadata": {},
   "outputs": [],
   "source": [
    "# Ahora crearemos una DataFrame para almacenar todos los datos\n",
    "\n",
    "import pandas as pd\n",
    "\n",
    "pd.DataFrame({'Position':position, \n",
    "              'Team':name, \n",
    "              'Points':points, \n",
    "              'Played':played, \n",
    "              'Win':win, \n",
    "              'Loosed':lose, \n",
    "              'Tie':tie, \n",
    "              'DG':goald}).set_index('Position')        # Establecemos la columna 'Position' como index ya que esta es la posición en la tabla."
   ]
  },
  {
   "cell_type": "code",
   "execution_count": null,
   "id": "4d6c3294",
   "metadata": {},
   "outputs": [],
   "source": [
    "# Ahora automatizamos el proceso definiendola con una función\n",
    "\n",
    "def soccertableleagues(x):    # 'x' debe ser una tipo caracter y debe formar parte de la lista de las competiciones\n",
    "    import requests\n",
    "\n",
    "    url = f'https://football98.p.rapidapi.com/{x}/table'\n",
    "\n",
    "    headers = {\n",
    "        \"X-RapidAPI-Key\": \"ca578d1629msh29e6128cab61badp110658jsnefac65d5e1e4\",\n",
    "        \"X-RapidAPI-Host\": \"football98.p.rapidapi.com\"\n",
    "    }\n",
    "\n",
    "    response = requests.get(url, headers=headers)\n",
    "    table_dirty = response.json()\n",
    "    \n",
    "    position = []\n",
    "    name = []\n",
    "    points = []\n",
    "    played = []\n",
    "    win = []\n",
    "    lose = []\n",
    "    tie = []\n",
    "    goald = []\n",
    "\n",
    "    for i in table_dirty:\n",
    "        position.append(i['Position'])\n",
    "        name.append(i['Name'])\n",
    "        points.append(i['Points'])\n",
    "        played.append(i['Played'])\n",
    "        win.append(i['Winned'])\n",
    "        lose.append(i['Loosed'])\n",
    "        tie.append(i['Tie'])\n",
    "        goald.append(i['Goal Difference'])\n",
    "\n",
    "    position, name, points, played, win, lose, tie, goald\n",
    "\n",
    "    return pd.DataFrame({'Position':position, 'Team':name, 'Points':points, 'Played':played, 'Win':win, 'Loosed':lose, 'Tie':tie, 'DG':goald}).set_index('Position')"
   ]
  },
  {
   "cell_type": "markdown",
   "id": "d248a114",
   "metadata": {},
   "source": [
    "Ahora nos encargamos de aplicar la función. En este caso mostraremos la tabla de la Premier League de Inglaterra, la Bundesliga de Alemania, LaLiga de España, Ligue 1 Uber Eats de Francia y la Serie A de Italia."
   ]
  },
  {
   "cell_type": "code",
   "execution_count": null,
   "id": "79f1c16a",
   "metadata": {},
   "outputs": [],
   "source": [
    "soccertableleagues('premierleague')"
   ]
  },
  {
   "cell_type": "code",
   "execution_count": null,
   "id": "b6a7689f",
   "metadata": {},
   "outputs": [],
   "source": [
    "soccertableleagues('bundesliga')"
   ]
  },
  {
   "cell_type": "code",
   "execution_count": null,
   "id": "56920b7c",
   "metadata": {},
   "outputs": [],
   "source": [
    "soccertableleagues('ligue1ubereats')"
   ]
  },
  {
   "cell_type": "code",
   "execution_count": null,
   "id": "b70b7cb0",
   "metadata": {},
   "outputs": [],
   "source": [
    "soccertableleagues('laliga')"
   ]
  },
  {
   "cell_type": "code",
   "execution_count": null,
   "id": "9702eb7b",
   "metadata": {},
   "outputs": [],
   "source": [
    "soccertableleaguesableleagues('seriea')"
   ]
  }
 ],
 "metadata": {
  "kernelspec": {
   "display_name": "Python 3 (ipykernel)",
   "language": "python",
   "name": "python3"
  },
  "language_info": {
   "codemirror_mode": {
    "name": "ipython",
    "version": 3
   },
   "file_extension": ".py",
   "mimetype": "text/x-python",
   "name": "python",
   "nbconvert_exporter": "python",
   "pygments_lexer": "ipython3",
   "version": "3.9.13"
  },
  "toc": {
   "base_numbering": 1,
   "nav_menu": {},
   "number_sections": true,
   "sideBar": true,
   "skip_h1_title": false,
   "title_cell": "Table of Contents",
   "title_sidebar": "Contents",
   "toc_cell": false,
   "toc_position": {},
   "toc_section_display": true,
   "toc_window_display": false
  }
 },
 "nbformat": 4,
 "nbformat_minor": 5
}
